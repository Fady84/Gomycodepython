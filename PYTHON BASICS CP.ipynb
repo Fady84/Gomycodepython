{
 "cells": [
  {
   "cell_type": "code",
   "execution_count": 1,
   "id": "6c96781f",
   "metadata": {},
   "outputs": [
    {
     "name": "stdout",
     "output_type": "stream",
     "text": [
      "Enter First Name:Fady\n",
      "Enter Last Name:Doss\n",
      "Doss Fady\n"
     ]
    }
   ],
   "source": [
    "#Q1 Write a Python program which accepts the user's first and last name and print them in reverse order with a space between them\n",
    "firstname=input(\"Enter First Name:\")\n",
    "lastname=input(\"Enter Last Name:\")\n",
    "print(lastname+\" \"+firstname)"
   ]
  },
  {
   "cell_type": "code",
   "execution_count": 2,
   "id": "0ee5ed80",
   "metadata": {},
   "outputs": [
    {
     "name": "stdout",
     "output_type": "stream",
     "text": [
      "Enter a number:5\n",
      "615\n"
     ]
    }
   ],
   "source": [
    "#Q2 Write a Python program that accepts an integer (n) and computes the value of n+nn+nnn\n",
    "#Sample value of n is 5 \n",
    "#Expected Result : 615 (5+55+555)\n",
    "x=int(input(\"Enter a number:\"))\n",
    "x1=x\n",
    "x2=x*11\n",
    "x3=x*111\n",
    "print(x1+x2+x3)"
   ]
  },
  {
   "cell_type": "code",
   "execution_count": 3,
   "id": "d66207eb",
   "metadata": {},
   "outputs": [
    {
     "name": "stdout",
     "output_type": "stream",
     "text": [
      "enter a number7\n",
      "1 This is an odd number\n"
     ]
    }
   ],
   "source": [
    "#Q3 Write a Python program to find whether a given number (accept from the user) is even or odd, print out an appropriate message to the user.\n",
    "x=int(input(\"enter a number\"))\n",
    "f=x%2\n",
    "if f==0:\n",
    "    print(f,\"This is an even number\")\n",
    "else:\n",
    "    print(f,\"This is an odd number\")"
   ]
  },
  {
   "cell_type": "code",
   "execution_count": 4,
   "id": "7cbfffc9",
   "metadata": {},
   "outputs": [
    {
     "name": "stdout",
     "output_type": "stream",
     "text": [
      "h l o t a\n"
     ]
    }
   ],
   "source": [
    "#Q6Write a program to remove the characters which have odd index values of a given string.\n",
    "#for example: string =\"hello team\"\n",
    "#the result should be: hlota\n",
    "string=\"hello team\"\n",
    "print(string[0],string[2],string[4],string[6],string[8])"
   ]
  },
  {
   "cell_type": "code",
   "execution_count": 5,
   "id": "5d6a0828",
   "metadata": {},
   "outputs": [
    {
     "name": "stdout",
     "output_type": "stream",
     "text": [
      "100\n",
      "there will be a 10% discount\n"
     ]
    }
   ],
   "source": [
    "#Q7 In this challenge, you must discount a price according to its value.\n",
    "\n",
    "#- If the price is 500 or above, there will be a 50% discount.\n",
    "#- If the price is between 200 and 500 (200 inclusive), there will be a 30% discount.\n",
    "#- If the price is less than 200, there will be a 10% discount.\n",
    "x=int(input())\n",
    "if x>=500:\n",
    "    print(\"there will be a 50% discount\")\n",
    "elif x>=200 and x<500:\n",
    "    print(\"there will be a 30% discount\")\n",
    "elif x<200:\n",
    "    print(\"there will be a 10% discount\")"
   ]
  },
  {
   "cell_type": "code",
   "execution_count": 1,
   "id": "46f3fcc5",
   "metadata": {},
   "outputs": [
    {
     "name": "stdout",
     "output_type": "stream",
     "text": [
      "2002,2009,2016,2023,2037,2044,2051,2058,2072,2079,2086,2093,2107,2114,2121,2128,2142,2149,2156,2163,2177,2184,2191,2198,2212,2219,2226,2233,2247,2254,2261,2268,2282,2289,2296,2303,2317,2324,2331,2338,2352,2359,2366,2373,2387,2394,2401,2408,2422,2429,2436,2443,2457,2464,2471,2478,2492,2499,2506,2513,2527,2534,2541,2548,2562,2569,2576,2583,2597,2604,2611,2618,2632,2639,2646,2653,2667,2674,2681,2688,2702,2709,2716,2723,2737,2744,2751,2758,2772,2779,2786,2793,2807,2814,2821,2828,2842,2849,2856,2863,2877,2884,2891,2898,2912,2919,2926,2933,2947,2954,2961,2968,2982,2989,2996,3003,3017,3024,3031,3038,3052,3059,3066,3073,3087,3094,3101,3108,3122,3129,3136,3143,3157,3164,3171,3178,3192,3199,"
     ]
    }
   ],
   "source": [
    "#Q4Write a program which will find all such numbers which are divisible by 7 but are not a multiple of 5, between 2000 and 3200 (both included). The numbers obtained should be printed in a sequence on a single line.\n",
    "#Hints: Consider use range(#begin, #end) method\n",
    "for i in range(2000,3200):\n",
    "    if i%7==0 and i%5!=0:\n",
    "        print (i,end=\",\")"
   ]
  },
  {
   "cell_type": "code",
   "execution_count": 2,
   "id": "e69f2df5",
   "metadata": {},
   "outputs": [
    {
     "name": "stdout",
     "output_type": "stream",
     "text": [
      "Enter a number5\n",
      "120\n"
     ]
    }
   ],
   "source": [
    "#Q5 Write a program that can compute the factorial of a given number. The results should be printed in a sequence on a single line. Suppose the following input is supplied to the program: 8 Then, the output should be: 40320 \n",
    "x=int(input(\"Enter a number\"))\n",
    "y=1\n",
    "for i in range(1,x+1):\n",
    "    y=y*i\n",
    "print(y)"
   ]
  },
  {
   "cell_type": "code",
   "execution_count": null,
   "id": "ecab4712",
   "metadata": {},
   "outputs": [],
   "source": []
  }
 ],
 "metadata": {
  "kernelspec": {
   "display_name": "Python 3 (ipykernel)",
   "language": "python",
   "name": "python3"
  },
  "language_info": {
   "codemirror_mode": {
    "name": "ipython",
    "version": 3
   },
   "file_extension": ".py",
   "mimetype": "text/x-python",
   "name": "python",
   "nbconvert_exporter": "python",
   "pygments_lexer": "ipython3",
   "version": "3.9.7"
  }
 },
 "nbformat": 4,
 "nbformat_minor": 5
}
