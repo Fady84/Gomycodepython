{
 "cells": [
  {
   "cell_type": "code",
   "execution_count": 3,
   "id": "c866a8d1",
   "metadata": {
    "scrolled": true
   },
   "outputs": [
    {
     "name": "stdout",
     "output_type": "stream",
     "text": [
      "2\n",
      "3\n"
     ]
    },
    {
     "data": {
      "text/plain": [
       "'true'"
      ]
     },
     "execution_count": 3,
     "metadata": {},
     "output_type": "execute_result"
    }
   ],
   "source": [
    "def binary_search(A, l, h, k):\n",
    "    if h >= l:\n",
    "        mid = int(l + (h - l)/2)\n",
    "        print(mid)\n",
    "        if A[mid] == k:\n",
    "            return 'true'\n",
    "        elif A[mid] > k:\n",
    "            return binary_search(A, l, mid-1, k)\n",
    "        else:\n",
    "            return binary_search(A, mid+1, h, k)\n",
    "    else:\n",
    "        return 'false'\n",
    "\n",
    "A=[1,2,3,5,8]\n",
    "k=5;l=0; h=len(A)-1;\n",
    "binary_search(A, l, h, k)"
   ]
  },
  {
   "cell_type": "code",
   "execution_count": 2,
   "id": "8c45bb9e",
   "metadata": {},
   "outputs": [
    {
     "data": {
      "text/plain": [
       "81"
      ]
     },
     "execution_count": 2,
     "metadata": {},
     "output_type": "execute_result"
    }
   ],
   "source": [
    "def power(a,b):\n",
    "    if b == 0:\n",
    "        return 1\n",
    "    if a==0:\n",
    "        return 0\n",
    "    if b==1:\n",
    "        return a\n",
    "    else:\n",
    "        return a*power(a,b-1)\n",
    "power(3,4)"
   ]
  },
  {
   "cell_type": "code",
   "execution_count": 11,
   "id": "99ad7c33",
   "metadata": {},
   "outputs": [
    {
     "name": "stdout",
     "output_type": "stream",
     "text": [
      "[13, 22, 29, 37, 46, 49, 52, 56, 71]\n"
     ]
    }
   ],
   "source": [
    "def bubbleSort(sortlist):\n",
    "    for x in range(len(sortlist)-1,0,-1):\n",
    "        for i in range(x):\n",
    "            if sortlist[i]>sortlist[i+1]:\n",
    "                temp = sortlist[i]\n",
    "                sortlist[i] = sortlist[i+1]\n",
    "                sortlist[i+1] = temp\n",
    "\n",
    "sortlist = [29,13,22,37,52,49,46,71,56]\n",
    "bubbleSort(sortlist)\n",
    "print(sortlist)"
   ]
  },
  {
   "cell_type": "code",
   "execution_count": 15,
   "id": "816e9666",
   "metadata": {},
   "outputs": [
    {
     "name": "stdout",
     "output_type": "stream",
     "text": [
      "Merging  [29]\n",
      "Merging  [13]\n",
      "Merging  [13, 29]\n",
      "Merging  [22]\n",
      "Merging  [37]\n",
      "Merging  [22, 37]\n",
      "Merging  [13, 22, 29, 37]\n",
      "Merging  [52]\n",
      "Merging  [49]\n",
      "Merging  [49, 52]\n",
      "Merging  [46]\n",
      "Merging  [71]\n",
      "Merging  [56]\n",
      "Merging  [56, 71]\n",
      "Merging  [46, 56, 71]\n",
      "Merging  [46, 49, 52, 56, 71]\n",
      "Merging  [13, 22, 29, 37, 46, 49, 52, 56, 71]\n",
      "[13, 22, 29, 37, 46, 49, 52, 56, 71]\n"
     ]
    }
   ],
   "source": [
    "def mergeSort(sortlist):\n",
    "    if len(sortlist)>1:\n",
    "        mid = len(sortlist)//2\n",
    "        lhalf = sortlist[:mid]\n",
    "        rhalf = sortlist[mid:]\n",
    "        mergeSort(lhalf)\n",
    "        mergeSort(rhalf)\n",
    "        i=j=k=0       \n",
    "        while i < len(lhalf) and j < len(rhalf):\n",
    "            if lhalf[i] < rhalf[j]:\n",
    "                sortlist[k]=lhalf[i]\n",
    "                i=i+1\n",
    "            else:\n",
    "                sortlist[k]=rhalf[j]\n",
    "                j=j+1\n",
    "            k=k+1\n",
    "        while i < len(lhalf):\n",
    "            sortlist[k]=lhalf[i]\n",
    "            i=i+1\n",
    "            k=k+1\n",
    "        while j < len(rhalf):\n",
    "            sortlist[k]=rhalf[j]\n",
    "            j=j+1\n",
    "            k=k+1\n",
    "    print(\"Merging \",sortlist)\n",
    "\n",
    "sortlist = [29,13,22,37,52,49,46,71,56]\n",
    "mergeSort(sortlist)\n",
    "print(sortlist)"
   ]
  },
  {
   "cell_type": "code",
   "execution_count": 17,
   "id": "8c762c37",
   "metadata": {},
   "outputs": [
    {
     "name": "stdout",
     "output_type": "stream",
     "text": [
      "[13, 22, 29, 37, 46, 49, 52, 56, 71]\n"
     ]
    }
   ],
   "source": [
    "def quickSort(sortlist):\n",
    "   quickSortHlp(sortlist,0,len(sortlist)-1)\n",
    "\n",
    "def quickSortHlp(sortlist,first,last):\n",
    "   if first < last:\n",
    "\n",
    "       splitpoint = partition(sortlist,first,last)\n",
    "\n",
    "       quickSortHlp(sortlist,first,splitpoint-1)\n",
    "       quickSortHlp(sortlist,splitpoint+1,last)\n",
    "\n",
    "\n",
    "def partition(sortlist,first,last):\n",
    "   pivotvalue = sortlist[first]\n",
    "\n",
    "   leftmark = first+1\n",
    "   rightmark = last\n",
    "\n",
    "   done = False\n",
    "   while not done:\n",
    "\n",
    "       while leftmark <= rightmark and sortlist[leftmark] <= pivotvalue:\n",
    "           leftmark = leftmark + 1\n",
    "\n",
    "       while sortlist[rightmark] >= pivotvalue and rightmark >= leftmark:\n",
    "           rightmark = rightmark -1\n",
    "\n",
    "       if rightmark < leftmark:\n",
    "           done = True\n",
    "       else:\n",
    "           temp = sortlist[leftmark]\n",
    "           data_list[leftmark] = sortlist[rightmark]\n",
    "           data_list[rightmark] = temp\n",
    "\n",
    "   temp = sortlist[first]\n",
    "   sortlist[first] = sortlist[rightmark]\n",
    "   sortlist[rightmark] = temp\n",
    "\n",
    "\n",
    "   return rightmark\n",
    "\n",
    "sortlist = [29,13,22,37,52,49,46,71,56]\n",
    "quickSort(sortlist)\n",
    "print(sortlist)"
   ]
  },
  {
   "cell_type": "code",
   "execution_count": null,
   "id": "a1818a07",
   "metadata": {},
   "outputs": [],
   "source": []
  }
 ],
 "metadata": {
  "kernelspec": {
   "display_name": "Python 3 (ipykernel)",
   "language": "python",
   "name": "python3"
  },
  "language_info": {
   "codemirror_mode": {
    "name": "ipython",
    "version": 3
   },
   "file_extension": ".py",
   "mimetype": "text/x-python",
   "name": "python",
   "nbconvert_exporter": "python",
   "pygments_lexer": "ipython3",
   "version": "3.9.7"
  }
 },
 "nbformat": 4,
 "nbformat_minor": 5
}
