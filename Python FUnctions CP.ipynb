{
 "cells": [
  {
   "cell_type": "code",
   "execution_count": 5,
   "id": "a82cc9b8",
   "metadata": {},
   "outputs": [
    {
     "name": "stdout",
     "output_type": "stream",
     "text": [
      "35\n"
     ]
    }
   ],
   "source": [
    "#Question 1\n",
    "def max(x,y,z):\n",
    "    if x>y and x>z:\n",
    "        print(x)\n",
    "    if y>x and y>z:\n",
    "        print(y)\n",
    "    if z>x and z>x:\n",
    "        print(z)\n",
    "max(20,35,19)"
   ]
  },
  {
   "cell_type": "code",
   "execution_count": 2,
   "id": "975516cd",
   "metadata": {},
   "outputs": [
    {
     "data": {
      "text/plain": [
       "(50, 30)"
      ]
     },
     "execution_count": 2,
     "metadata": {},
     "output_type": "execute_result"
    }
   ],
   "source": [
    "#Question 2\n",
    "def cal(a,b):\n",
    "    return(a+b),(a-b)\n",
    "cal(40,10)"
   ]
  },
  {
   "cell_type": "code",
   "execution_count": 3,
   "id": "94fe7e83",
   "metadata": {},
   "outputs": [
    {
     "name": "stdout",
     "output_type": "stream",
     "text": [
      "103\n",
      "5388768000\n",
      "[1, 3, 6, 10, 10, 12]\n",
      "42\n",
      "249480\n"
     ]
    }
   ],
   "source": [
    "#Question 3\n",
    "list1=[1,14,3,15,6,12,10,9,10,11,12]\n",
    "def sumlist(mylist):\n",
    "    result=0\n",
    "    for x in mylist:\n",
    "        result=result+x\n",
    "    return result\n",
    "\n",
    "def multiplylist(mylist):\n",
    "    result=1\n",
    "    for x in mylist:\n",
    "        result=result*x\n",
    "    return result\n",
    "\n",
    "print(sumlist(list1))\n",
    "print(multiplylist(list1))\n",
    "Listx=[]\n",
    "Listy=[]\n",
    "for i in range(len(list1)):\n",
    "    if i%2==1:\n",
    "        Listx.append(list1[i])\n",
    "    else:\n",
    "        Listy.append(list1[i])\n",
    "print(Listy)\n",
    "print(sumlist(Listy))\n",
    "print(multiplylist(Listx))"
   ]
  },
  {
   "cell_type": "code",
   "execution_count": 4,
   "id": "1517f3d2",
   "metadata": {},
   "outputs": [
    {
     "name": "stdout",
     "output_type": "stream",
     "text": [
      "red-yellow-green\n",
      "green-red-yellow\n"
     ]
    }
   ],
   "source": [
    "#Question 4\n",
    "colors=[n for n in input().split('-')]\n",
    "colors.sort()\n",
    "print(\"-\".join(colors))"
   ]
  },
  {
   "cell_type": "code",
   "execution_count": null,
   "id": "cf423f7b",
   "metadata": {},
   "outputs": [],
   "source": []
  }
 ],
 "metadata": {
  "kernelspec": {
   "display_name": "Python 3 (ipykernel)",
   "language": "python",
   "name": "python3"
  },
  "language_info": {
   "codemirror_mode": {
    "name": "ipython",
    "version": 3
   },
   "file_extension": ".py",
   "mimetype": "text/x-python",
   "name": "python",
   "nbconvert_exporter": "python",
   "pygments_lexer": "ipython3",
   "version": "3.9.7"
  }
 },
 "nbformat": 4,
 "nbformat_minor": 5
}
