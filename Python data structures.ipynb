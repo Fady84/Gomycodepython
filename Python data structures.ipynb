{
 "cells": [
  {
   "cell_type": "code",
   "execution_count": 1,
   "id": "2368133b",
   "metadata": {},
   "outputs": [
    {
     "data": {
      "text/plain": [
       "36"
      ]
     },
     "execution_count": 1,
     "metadata": {},
     "output_type": "execute_result"
    }
   ],
   "source": [
    "#Q1Write a Python program to multiplies all the items in a list\n",
    "list=[2,3,6]\n",
    "int(list[0])*int(list[1])*int(list[2])"
   ]
  },
  {
   "cell_type": "code",
   "execution_count": 3,
   "id": "d4484a54",
   "metadata": {},
   "outputs": [
    {
     "name": "stdout",
     "output_type": "stream",
     "text": [
      "{'a': 400, 'b': 400, 'c': 700}\n"
     ]
    }
   ],
   "source": [
    "#Q3Write a Python program to combine two dictionary adding values for common keys.\n",
    "d1 = {'a': 100, 'b': 200, 'c':300}\n",
    "d2 = {'a': 300, 'b': 200, 'd':400}\n",
    "a=int(d1.get(\"a\"))+int(d2.get(\"a\"))\n",
    "b=int(d1.get(\"b\"))+int(d2.get(\"b\"))\n",
    "c=int(d1.get(\"c\"))+int(d2.get(\"d\"))\n",
    "d1[\"a\"]=a\n",
    "d1[\"b\"]=b\n",
    "d1[\"c\"]=c\n",
    "print(d1)"
   ]
  },
  {
   "cell_type": "code",
   "execution_count": 4,
   "id": "571e5c25",
   "metadata": {},
   "outputs": [
    {
     "name": "stdout",
     "output_type": "stream",
     "text": [
      "[('item1', '12.20'), ('item2', '15.10'), ('item3', '24.5')]\n"
     ]
    }
   ],
   "source": [
    "#Q5Write a program to sort a tuple by its float element.\n",
    "price = [('item1', '12.20'), ('item2', '15.10'), ('item3', '24.5')]\n",
    "print(sorted(price))\n"
   ]
  },
  {
   "cell_type": "code",
   "execution_count": 15,
   "id": "954a63b4",
   "metadata": {},
   "outputs": [
    {
     "data": {
      "text/plain": [
       "[(1, 2), (2, 1), (2, 3), (2, 5), (4, 4)]"
      ]
     },
     "execution_count": 15,
     "metadata": {},
     "output_type": "execute_result"
    }
   ],
   "source": [
    "#Q2Write a Python program to get a list, sorted in increasing order by the last element in each tuple from a given list of non-empty tuples. lists= [(2,5),(1,2),(4,4),(2,3),(2,1)]\n",
    "# i donot know what is wrong???\n",
    "lists= [(2,5),(1,2),(4,4),(2,3),(2,1)]\n",
    "sorted(lists)"
   ]
  },
  {
   "cell_type": "code",
   "execution_count": 22,
   "id": "cc70b390",
   "metadata": {},
   "outputs": [
    {
     "name": "stdout",
     "output_type": "stream",
     "text": [
      "Type a number: 8\n",
      "{1: 1, 2: 4, 3: 9, 4: 16, 5: 25, 6: 36, 7: 49, 8: 64}\n"
     ]
    }
   ],
   "source": [
    "#Q4With a given integral number n, write a program to generate a dictionary that contains (i, i*i) such that is an integral number between 1 and n (both included). and then the program should print the dictionary.\n",
    "x = int(input(\"Type a number: \"))\n",
    "y = {}\n",
    "for i in range(1, x+1):\n",
    "    y[i] = i*i\n",
    "print(y)"
   ]
  },
  {
   "cell_type": "code",
   "execution_count": null,
   "id": "d1548357",
   "metadata": {},
   "outputs": [],
   "source": []
  }
 ],
 "metadata": {
  "kernelspec": {
   "display_name": "Python 3 (ipykernel)",
   "language": "python",
   "name": "python3"
  },
  "language_info": {
   "codemirror_mode": {
    "name": "ipython",
    "version": 3
   },
   "file_extension": ".py",
   "mimetype": "text/x-python",
   "name": "python",
   "nbconvert_exporter": "python",
   "pygments_lexer": "ipython3",
   "version": "3.9.7"
  }
 },
 "nbformat": 4,
 "nbformat_minor": 5
}
